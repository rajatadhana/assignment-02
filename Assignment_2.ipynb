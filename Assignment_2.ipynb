{
  "nbformat": 4,
  "nbformat_minor": 0,
  "metadata": {
    "colab": {
      "provenance": []
    },
    "kernelspec": {
      "name": "python3",
      "display_name": "Python 3"
    },
    "language_info": {
      "name": "python"
    }
  },
  "cells": [
    {
      "cell_type": "markdown",
      "source": [
        "# **DATA TYPES AND STRUCTURES QUESTIONS**"
      ],
      "metadata": {
        "id": "SXpKavy3e6d_"
      }
    },
    {
      "cell_type": "markdown",
      "source": [
        "1  What are data structures, and why are they important\n",
        "- ### What Are Data Structures?\n",
        "\n",
        "**Data structures** are specialized formats used to organize, store, and manage data in a computer so that it can be used efficiently. They define the relationship between data and the operations that can be performed on that data.\n",
        "\n",
        "Common types of data structures include:\n",
        "\n",
        "* **Arrays** – Fixed-size sequences of elements.\n",
        "* **Lists** – Ordered collections that can grow or shrink.\n",
        "* **Stacks** – \"Last In, First Out\" (LIFO) structures.\n",
        "* **Queues** – \"First In, First Out\" (FIFO) structures.\n",
        "* **Linked Lists** – Sequences of nodes where each node points to the next.\n",
        "* **Trees** – Hierarchical structures with a root and branches.\n",
        "* **Graphs** – Networks of connected nodes.\n",
        "* **Hash Tables / Dictionaries** – Key-value pairs for fast lookup.\n",
        "\n",
        "---\n",
        "\n",
        "### Why Are Data Structures Important?\n",
        "\n",
        "1. **Efficient Data Access**: They allow quick retrieval and manipulation of data (e.g., binary search tree for fast searching).\n",
        "2. **Optimized Memory Usage**: Choosing the right structure can reduce memory waste (e.g., linked lists vs. arrays).\n",
        "3. **Faster Algorithms**: Efficient algorithms often rely on the right data structures (e.g., heaps for priority queues).\n",
        "4. **Better Problem Solving**: Many real-world problems (like social networks or routing) map directly to specific data structures like graphs.\n",
        "5. **Foundation of Programming**: Understanding data structures is essential for writing robust, maintainable, and scalable code.\n",
        "\n",
        "---\n",
        "\n",
        "### Simple Analogy\n",
        "\n",
        "Think of data structures like **tools in a toolbox**:\n",
        "\n",
        "* A hammer (stack) is great for pounding nails (LIFO operations),\n",
        "* A screwdriver (queue) is great for turning screws (FIFO tasks),\n",
        "* You wouldn’t use one tool for every job — same goes for data structures in programming.\n",
        "\n",
        "Would you like an example of how a specific data structure is used in Python?\n",
        "\n",
        "2  Explain the difference between mutable and immutable data types with examples\n",
        "- Mutable Data Types\n",
        "Definition:\n",
        "A mutable data type is one whose value can be changed or modified after it is created. This means that you can update, add, or delete elements from the data structure without creating a new object.\n",
        "Key Characteristics:\n",
        "Contents can be changed in place.\n",
        "Memory address (identity) remains the same even after modification.\n",
        "Used when ata needs to be updated frequently.\n",
        "Examples:\n",
        "List\n",
        "Dictionary\n",
        "Set\n",
        "Immutable Data Types\n",
        "Definition:\n",
        "An immutable data type is one whose value cannot be changed or modified once it is created. If any change is required, a new object is created with the updated value.\n",
        "Key Characteristics:\n",
        "Contents cannot be changed in place.\n",
        "Any change results in a new object being created.\n",
        "Ensures data safety and is often used in multi-threaded environments.\n",
        "Examples:\n",
        "Integer\n",
        "Float\n",
        "String\n",
        "TuplE\n",
        "\n",
        "3  What are the main differences between lists and tuples in Python\n",
        "- In Python, **lists and tuples** are both used to store collections of items, but they differ mainly in **mutability, performance, and usage**. A **list** is a **mutable** data type, which means its contents can be changed after it is created. You can add, remove, or modify elements in a list using various built-in methods like `append()`, `remove()`, and `pop()`. Lists are defined using **square brackets**, for example: `[1, 2, 3]`.\n",
        "\n",
        "On the other hand, a **tuple** is an **immutable** data type, meaning once it is created, its contents cannot be changed. Tuples do not support item assignment or modification, and they have fewer built-in methods compared to lists. They are defined using **parentheses**, like `(1, 2, 3)`. Because tuples are immutable, they are generally **faster and more memory-efficient** than lists. This makes them suitable for situations where data should remain constant and protected from accidental changes.\n",
        "\n",
        "In summary, lists are ideal when your data needs to be modified during the program's execution, while tuples are preferred for **fixed data** and **better performance** in terms of speed and memory.\n",
        "\n",
        "4  Describe how dictionaries store data\n",
        "- ### **How Dictionaries Store Data in Python (Theoretical Explanation)**\n",
        "\n",
        "In Python, a **dictionary** is a **mutable** and **unordered** collection used to store **key-value pairs**. Each item in a dictionary has a **unique key** and a corresponding **value**, written in the form `{key: value}`. This structure allows for **efficient data retrieval** based on the key.\n",
        "\n",
        "#### 🔹 Internal Working:\n",
        "\n",
        "Under the hood, dictionaries in Python use a **hash table** to store data. When a key-value pair is added:\n",
        "\n",
        "* The **key** is passed through a **hash function** to generate a unique hash code.\n",
        "* This hash code determines the **index (or location)** in the internal table where the value will be stored.\n",
        "* If two keys produce the same hash (called a **collision**), Python handles it through **collision resolution techniques**, ensuring data is still stored correctly.\n",
        "\n",
        "#### 🔹 Key Points:\n",
        "\n",
        "* **Keys must be immutable** (e.g., strings, numbers, or tuples), so they can be hashed.\n",
        "* **Values can be of any data type**, and multiple keys can map to the same value.\n",
        "* Access to values is **fast** because the dictionary uses hashing, which provides **constant-time complexity (O(1))** on average for lookup, insertion, and deletion.\n",
        "\n",
        "#### 🔹 Example:\n",
        "\n",
        "```python\n",
        "student = {\n",
        "    \"name\": \"Riya\",\n",
        "    \"age\": 20,\n",
        "    \"grade\": \"A\"\n",
        "}\n",
        "```\n",
        "\n",
        "In this example:\n",
        "\n",
        "* `\"name\"`, `\"age\"`, and `\"grade\"` are **keys**.\n",
        "* `\"Riya\"`, `20`, and `\"A\"` are their corresponding **values**.\n",
        "\n",
        "---\n",
        "\n",
        "### Summary:\n",
        "\n",
        "Dictionaries store data as key-value pairs using a **hash table mechanism**, enabling **fast and efficient data access**. The uniqueness and immutability of keys are essential for ensuring reliable storage and lookup.\n",
        "\n",
        "5  Why might you use a set instead of a list in Python\n",
        "- ### **Why Use a Set Instead of a List in Python? (Theoretical Explanation)**\n",
        "\n",
        "In Python, both **sets** and **lists** are used to store collections of elements, but they serve different purposes. A **set** is an **unordered**, **mutable**, and **unindexed** collection that automatically **removes duplicate elements**. You might choose a set over a list in certain situations due to its unique features and performance benefits.\n",
        "\n",
        "---\n",
        "\n",
        "### 🔹 Key Reasons to Use a Set Instead of a List:\n",
        "\n",
        "1. **Eliminating Duplicates**\n",
        "   Sets automatically **discard duplicate values**, making them ideal for storing **unique elements** without any extra code.\n",
        "\n",
        "   * Example: `set([1, 2, 2, 3])` → `{1, 2, 3}`\n",
        "\n",
        "2. **Faster Membership Testing**\n",
        "   Sets are **faster than lists** when checking if an element exists, because sets use **hashing**, which gives **average O(1)** time complexity for lookups, compared to **O(n)** in lists.\n",
        "\n",
        "3. **Set Operations**\n",
        "   Sets support efficient **mathematical operations** like **union**, **intersection**, and **difference**, which are not directly available with lists.\n",
        "\n",
        "   * Example: `set1 & set2` (intersection), `set1 | set2` (union)\n",
        "\n",
        "4. **Cleaner and Safer Code**\n",
        "   When your use case involves **unique items only**, using a set makes your intention clear and **reduces bugs** caused by accidental duplicates.\n",
        "\n",
        "---\n",
        "\n",
        "### 🔹 When Not to Use a Set:\n",
        "\n",
        "* If **order matters** (sets are unordered).\n",
        "* If you need **duplicate values** or **indexed access** (sets don’t support indexing or duplicates).\n",
        "\n",
        "---\n",
        "\n",
        "### 🔹 Summary:\n",
        "\n",
        "You should use a **set instead of a list** when:\n",
        "\n",
        "* You need to store **unique items only**.\n",
        "* You want **fast membership testing**.\n",
        "* You plan to perform **set-based operations** like union or intersection.\n",
        "\n",
        "Sets offer **clean, efficient, and faster** alternatives in these scenarios compared to lists.\n",
        "\n",
        "6  What is a string in Python, and how is it different from a list\n",
        "- Sure! Here are the **short answers**:\n",
        "\n",
        "---\n",
        "\n",
        "### **What is a string in Python?**\n",
        "\n",
        "A string is an **immutable sequence of characters** used to represent text.\n",
        "Example: `\"Hello\"`\n",
        "\n",
        "---\n",
        "\n",
        "### **How is it different from a list?**\n",
        "\n",
        "| Feature     | String                 | List                    |\n",
        "| ----------- | ---------------------- | ----------------------- |\n",
        "| Data Type   | Text (characters only) | Any data type           |\n",
        "| Mutability  | Immutable              | Mutable                 |\n",
        "| Syntax      | Quotes (`\" \"`)         | Square brackets (`[ ]`) |\n",
        "| Can Modify? | No                     | Yes                     |\n",
        "\n",
        "---\n",
        "\n",
        "Let me know if you'd like an example or diagram!\n",
        "\n",
        "7  How do tuples ensure data integrity in Python\n",
        "- ### **How Do Tuples Ensure Data Integrity in Python?** (Short Answer)\n",
        "\n",
        "Tuples ensure data integrity by being **immutable**, meaning their contents **cannot be changed** after creation. This prevents accidental modification of data, making tuples **safe for storing fixed or constant information**, such as configuration settings or coordinates.\n",
        "\n",
        "---\n",
        "\n",
        "### ✅ Key Points:\n",
        "\n",
        "* **Immutable** → cannot be altered.\n",
        "* **Reliable** for secure and unchangeable data.\n",
        "* Used when **data should remain constant** throughout the program.\n",
        "\n",
        "---\n",
        "\n",
        "**Example:**\n",
        "\n",
        "```python\n",
        "config = (\"localhost\", 8080)\n",
        "# config[0] = \"127.0.0.1\" → ❌ Error: tuples cannot be changed\n",
        "```\n",
        "\n",
        "So, tuples protect your data from being modified by mistake.\n",
        "\n",
        "8  What is a hash table, and how does it relate to dictionaries in Python\n",
        "- ### **What is a Hash Table?** (Short Answer)\n",
        "\n",
        "A **hash table** is a **data structure** that stores **key-value pairs** and uses a **hash function** to map keys to specific locations (called buckets) in memory for **fast access**.\n",
        "\n",
        "---\n",
        "\n",
        "### **How Does It Relate to Dictionaries in Python?**\n",
        "\n",
        "In Python, a **dictionary** is an **implementation of a hash table**.\n",
        "\n",
        "* **Keys** are hashed using a **hash function**.\n",
        "* The **hash value** determines where the corresponding **value** is stored.\n",
        "* This allows for **fast lookup, insertion, and deletion** (on average, O(1) time).\n",
        "\n",
        "---\n",
        "\n",
        "### ✅ Example:\n",
        "\n",
        "```python\n",
        "my_dict = {\"name\": \"Alice\", \"age\": 25}\n",
        "```\n",
        "\n",
        "* `\"name\"` and `\"age\"` are **hashed** to find where their values are stored in memory.\n",
        "\n",
        "---\n",
        "\n",
        "### **Summary:**\n",
        "\n",
        "* A **hash table** is the **underlying structure** behind Python **dictionaries**.\n",
        "* It enables **efficient key-based access** to data.\n",
        "\n",
        "9  Can lists contain different data types in Python\n",
        "- ### **Can Lists Contain Different Data Types in Python?**\n",
        "\n",
        "**Yes**, lists in Python **can contain different data types** in a single list.\n",
        "\n",
        "---\n",
        "\n",
        "### ✅ Example:\n",
        "\n",
        "```python\n",
        "my_list = [10, \"hello\", 3.14, True]\n",
        "```\n",
        "\n",
        "This list contains:\n",
        "\n",
        "* An **integer** (`10`)\n",
        "* A **string** (`\"hello\"`)\n",
        "* A **float** (`3.14`)\n",
        "* A **boolean** (`True`)\n",
        "\n",
        "---\n",
        "\n",
        "### **Summary:**\n",
        "\n",
        "Python lists are **flexible** and can store **mixed data types** in one collection.\n",
        "\n",
        "10  Explain why strings are immutable in Python\n",
        "- ### **Why Are Strings Immutable in Python?** (Short Answer)\n",
        "\n",
        "Strings are **immutable** in Python to ensure:\n",
        "\n",
        "1. **Data safety** – Once created, the string can't be accidentally changed.\n",
        "2. **Efficiency** – Immutable objects can be **interned** (shared in memory) for faster performance.\n",
        "3. **Hashing support** – Strings can be used as **dictionary keys** because their value doesn't change.\n",
        "\n",
        "---\n",
        "\n",
        "### ✅ Example:\n",
        "\n",
        "```python\n",
        "s = \"hello\"\n",
        "# s[0] = \"H\" → ❌ Error: strings are immutable\n",
        "```\n",
        "\n",
        "---\n",
        "\n",
        "### **Summary:**\n",
        "\n",
        "Strings are immutable to make them **safe, fast, and usable as keys** in hash-based data structures like dictionaries.\n",
        "\n",
        "11  What advantages do dictionaries offer over lists for certain tasks\n",
        "- ### **Advantages of Dictionaries Over Lists in Python** (Short Answer)\n",
        "\n",
        "Dictionaries offer several advantages over lists for specific tasks:\n",
        "\n",
        "---\n",
        "\n",
        "### ✅ **1. Fast Lookups**\n",
        "\n",
        "* **Dictionaries** use **keys** and **hashing**, allowing **O(1)** average time for data access.\n",
        "* **Lists** require searching through elements (**O(n)** time).\n",
        "\n",
        "---\n",
        "\n",
        "### ✅ **2. Key-Based Access**\n",
        "\n",
        "* Access data by **custom keys** (e.g., `\"name\"`, `\"age\"`) instead of numeric indexes.\n",
        "* Easier to read and manage.\n",
        "\n",
        "---\n",
        "\n",
        "### ✅ **3. Better for Structured Data**\n",
        "\n",
        "* Ideal for storing related data as **key-value pairs**.\n",
        "* Example: `{\"name\": \"Alice\", \"age\": 25}` is clearer than `[\"Alice\", 25]`.\n",
        "\n",
        "---\n",
        "\n",
        "### ✅ **4. No Need to Remember Positions**\n",
        "\n",
        "* You don’t have to track the **index** of data manually.\n",
        "\n",
        "---\n",
        "\n",
        "### **Summary:**\n",
        "\n",
        "Dictionaries are better than lists when you need **fast lookups**, **clear key-based access**, and **organized, labeled data**.\n",
        "\n",
        "12  Describe a scenario where using a tuple would be preferable over a list\n",
        "- ### **Scenario Where a Tuple Is Preferable Over a List** (Short Answer)\n",
        "\n",
        "Use a **tuple** when you need to store a **fixed collection of values** that **should not change**.\n",
        "\n",
        "---\n",
        "\n",
        "### ✅ **Example Scenario:**\n",
        "\n",
        "Storing **geographic coordinates** (latitude, longitude):\n",
        "\n",
        "```python\n",
        "location = (28.6139, 77.2090)\n",
        "```\n",
        "\n",
        "* These coordinates represent a **specific point**.\n",
        "* They should remain **constant** during the program.\n",
        "* Using a **tuple** ensures they **won’t be modified accidentally**.\n",
        "\n",
        "---\n",
        "\n",
        "### **Summary:**\n",
        "\n",
        "A tuple is preferable when the data is **fixed, constant, and unchangeable**, such as **coordinates, configuration values, or days of the week**.\n",
        "\n",
        "13  How do sets handle duplicate values in Python\n",
        "- ### **How Do Sets Handle Duplicate Values in Python?** (Short Answer)\n",
        "\n",
        "**Sets automatically remove duplicate values.**\n",
        "\n",
        "---\n",
        "\n",
        "### ✅ Example:\n",
        "\n",
        "```python\n",
        "my_set = {1, 2, 2, 3, 3, 3}\n",
        "print(my_set)  # Output: {1, 2, 3}\n",
        "```\n",
        "\n",
        "* All duplicates are discarded.\n",
        "* Only **unique elements** are stored.\n",
        "\n",
        "---\n",
        "\n",
        "### **Summary:**\n",
        "\n",
        "Sets in Python **do not allow duplicates**—they keep only **one copy** of each unique value.\n",
        "\n",
        "14  How does the “in” keyword work differently for lists and dictionaries\n",
        "- ### **How Does the `in` Keyword Work Differently for Lists and Dictionaries?** (Short Answer)\n",
        "\n",
        "---\n",
        "\n",
        "### ✅ **In Lists**\n",
        "\n",
        "The `in` keyword checks if a **value** exists in the list.\n",
        "\n",
        "```python\n",
        "my_list = [1, 2, 3]\n",
        "print(2 in my_list)  # ✅ True (value check)\n",
        "```\n",
        "\n",
        "---\n",
        "\n",
        "### ✅ **In Dictionaries**\n",
        "\n",
        "The `in` keyword checks if a **key** exists in the dictionary (not the value).\n",
        "\n",
        "```python\n",
        "my_dict = {\"name\": \"Alice\", \"age\": 25}\n",
        "print(\"name\" in my_dict)   # ✅ True (key check)\n",
        "print(\"Alice\" in my_dict)  # ❌ False (value, not key)\n",
        "```\n",
        "\n",
        "---\n",
        "\n",
        "### **Summary:**\n",
        "\n",
        "* `in` with **lists** → checks for **values**.\n",
        "* `in` with **dictionaries** → checks for **keys**.\n",
        "\n",
        "15  Can you modify the elements of a tuple? Explain why or why not\n",
        "- ### **Can You Modify the Elements of a Tuple in Python?**\n",
        "\n",
        "**No**, you **cannot modify** the elements of a tuple.\n",
        "\n",
        "---\n",
        "\n",
        "### **Why Not?**\n",
        "\n",
        "* Tuples are **immutable**, meaning their contents **cannot be changed** after creation.\n",
        "* You **cannot add, remove, or update** elements in a tuple.\n",
        "\n",
        "---\n",
        "\n",
        "### ✅ Example:\n",
        "\n",
        "```python\n",
        "my_tuple = (1, 2, 3)\n",
        "# my_tuple[0] = 10  → ❌ This will raise a TypeError\n",
        "```\n",
        "\n",
        "---\n",
        "\n",
        "### **Summary:**\n",
        "\n",
        "Tuples are **designed to protect data** from accidental changes, which is why their elements **cannot be modified**.\n",
        "\n",
        "16  What is a nested dictionary, and give an example of its use case\n",
        "- ### **What Is a Nested Dictionary in Python?**\n",
        "\n",
        "A **nested dictionary** is a **dictionary inside another dictionary**. It allows you to organize complex data using multiple levels of key-value pairs.\n",
        "\n",
        "---\n",
        "\n",
        "### ✅ **Example:**\n",
        "\n",
        "```python\n",
        "student = {\n",
        "    \"name\": \"Amit\",\n",
        "    \"grades\": {\n",
        "        \"math\": 90,\n",
        "        \"science\": 85\n",
        "    },\n",
        "    \"age\": 16\n",
        "}\n",
        "```\n",
        "\n",
        "---\n",
        "\n",
        "### **Use Case:**\n",
        "\n",
        "A nested dictionary is useful for representing **structured data**, such as:\n",
        "\n",
        "* **Student records** (name, subjects, grades)\n",
        "* **Inventory systems** (items and their details)\n",
        "* **JSON-like hierarchical data**\n",
        "\n",
        "---\n",
        "\n",
        "### **Summary:**\n",
        "\n",
        "Nested dictionaries help store and manage **multi-level, related data** in a clear and organized way.\n",
        "\n",
        "17  Describe the time complexity of accessing elements in a dictionary\n",
        "- ### **Time Complexity of Accessing Elements in a Dictionary**\n",
        "\n",
        "Accessing an element in a Python dictionary using a key has an **average-case time complexity of O(1)** (constant time).\n",
        "\n",
        "---\n",
        "\n",
        "### ✅ **Explanation:**\n",
        "\n",
        "* Dictionaries use a **hash table** internally.\n",
        "* When you access a value using a key, Python uses a **hash function** to find the location of the value quickly.\n",
        "* This makes lookup **very fast**, regardless of the size of the dictionary.\n",
        "\n",
        "---\n",
        "\n",
        "### ❗ Worst Case (Rare):\n",
        "\n",
        "* **O(n)** — if many keys have **hash collisions**, but Python handles this efficiently with collision resolution.\n",
        "\n",
        "---\n",
        "\n",
        "### **Summary:**\n",
        "\n",
        "* **Average time complexity:** `O(1)` ✅\n",
        "* **Worst-case time complexity:** `O(n)` ❗ (rare)\n",
        "  Dictionaries are ideal for **fast lookups and key-based access**.\n",
        "\n",
        "18  In what situations are lists preferred over dictionaries\n",
        "- ### **Situations Where Lists Are Preferred Over Dictionaries** (Short Answer)\n",
        "\n",
        "Use **lists** instead of dictionaries when:\n",
        "\n",
        "---\n",
        "\n",
        "### ✅ **1. Order Matters**\n",
        "\n",
        "Lists maintain the **insertion order** and support **index-based access**.\n",
        "\n",
        "> Example: Storing items in a specific sequence (e.g., `[10, 20, 30]`).\n",
        "\n",
        "---\n",
        "\n",
        "### ✅ **2. Simple Collection of Values**\n",
        "\n",
        "When you only need to store **values without labels or keys**.\n",
        "\n",
        "> Example: A list of student names: `[\"Amit\", \"Riya\", \"John\"]`.\n",
        "\n",
        "---\n",
        "\n",
        "### ✅ **3. Iteration Over Values**\n",
        "\n",
        "Lists are more natural and efficient for **looping over values** in order.\n",
        "\n",
        "---\n",
        "\n",
        "### ✅ **4. Memory Efficiency**\n",
        "\n",
        "Lists generally consume **less memory** than dictionaries for simple data.\n",
        "\n",
        "---\n",
        "\n",
        "### **Summary:**\n",
        "\n",
        "Use lists when you need a **simple, ordered collection** of items without key-value pairs.\n",
        "\n",
        "19  Why are dictionaries considered unordered, and how does that affect data retrieval\n",
        "- ### **Why Are Dictionaries Considered Unordered (Historically)?**\n",
        "\n",
        "Dictionaries were traditionally considered **unordered** because the **order of key-value pairs was not guaranteed** in earlier versions of Python (before **Python 3.7**).\n",
        "\n",
        "* In versions **before Python 3.7**, dictionaries did **not maintain insertion order**.\n",
        "* From **Python 3.7 onward**, dictionaries **do preserve insertion order**, but this is treated as an **implementation detail**, not a strict requirement for all use cases.\n",
        "\n",
        "---\n",
        "\n",
        "### **How Does That Affect Data Retrieval?**\n",
        "\n",
        "* **Retrieval by key** is **fast** and **unaffected by order** (O(1) time complexity).\n",
        "* However, if your program **relies on the order** of items (like the first or last entry), using a **dictionary is risky in older versions**.\n",
        "* For **ordered operations**, prefer **`collections.OrderedDict`** (Python 3.6 and below) or rely on **insertion-order dictionaries** (Python 3.7+).\n",
        "\n",
        "---\n",
        "\n",
        "### ✅ **Example:**\n",
        "\n",
        "```python\n",
        "my_dict = {\"a\": 1, \"b\": 2, \"c\": 3}\n",
        "print(my_dict)  # In Python 3.7+, order is maintained\n",
        "```\n",
        "\n",
        "---\n",
        "\n",
        "### **Summary:**\n",
        "\n",
        "Dictionaries were considered unordered because they didn’t guarantee key order. While modern Python versions **preserve insertion order**, dictionaries are still best used for **key-based retrieval**, not position-based access.\n",
        "\n",
        "20  Explain the difference between a list and a dictionary in terms of data retrieval.\n",
        "- ### **Difference Between a List and a Dictionary in Terms of Data Retrieval**\n",
        "\n",
        "---\n",
        "\n",
        "### ✅ **List:**\n",
        "\n",
        "* **Access by index** (numeric position).\n",
        "* Retrieval is based on **position** in the list.\n",
        "* Time complexity: **O(1)** for direct index access.\n",
        "\n",
        "```python\n",
        "my_list = [10, 20, 30]\n",
        "print(my_list[1])  # Output: 20\n",
        "```\n",
        "\n",
        "---\n",
        "\n",
        "### ✅ **Dictionary:**\n",
        "\n",
        "* **Access by key** (not position).\n",
        "* Retrieval is based on a **unique key** mapped to a value.\n",
        "* Time complexity: **O(1)** (average case) using **hashing**.\n",
        "\n",
        "```python\n",
        "my_dict = {\"a\": 10, \"b\": 20}\n",
        "print(my_dict[\"b\"])  # Output: 20\n",
        "```\n",
        "\n",
        "---\n",
        "\n",
        "### **Summary:**\n",
        "\n",
        "| Feature        | **List**           | **Dictionary**          |\n",
        "| -------------- | ------------------ | ----------------------- |\n",
        "| Access Method  | By **index**       | By **key**              |\n",
        "| Lookup Type    | **Position-based** | **Key-based**           |\n",
        "| Key/Index Type | Only **integers**  | Any **hashable type**   |\n",
        "| Use Case       | Ordered data       | Labeled/structured data |\n",
        "\n",
        "Lists are best for **ordered sequences**, while dictionaries are ideal for **key-value mappings**.\n",
        "\n"
      ],
      "metadata": {
        "id": "2kD0srOZfL5V"
      }
    },
    {
      "cell_type": "markdown",
      "source": [
        "**PRACTICAL QUESTIONS**\n",
        "\n"
      ],
      "metadata": {
        "id": "hlQF2TlJjkp2"
      }
    },
    {
      "cell_type": "markdown",
      "source": [
        "1 Write a code to create a string with your name and print it\n"
      ],
      "metadata": {
        "id": "P4cSL6abkEgt"
      }
    },
    {
      "cell_type": "code",
      "source": [
        "# Creating a string with my name\n",
        "name = \"Rajat Kumar\"\n",
        "\n",
        "# Printing the string\n",
        "print(\"My name is:\", name)\n"
      ],
      "metadata": {
        "colab": {
          "base_uri": "https://localhost:8080/"
        },
        "id": "1wUNu1KrkGqe",
        "outputId": "2ec6e89d-78f8-4e0b-f937-225a30dc2fb9"
      },
      "execution_count": null,
      "outputs": [
        {
          "output_type": "stream",
          "name": "stdout",
          "text": [
            "My name is: Rajat Kumar\n"
          ]
        }
      ]
    },
    {
      "cell_type": "markdown",
      "source": [
        "2  Write a code to find the length of the string \"Hello World\"\n"
      ],
      "metadata": {
        "id": "7R4t2lpskQoR"
      }
    },
    {
      "cell_type": "code",
      "source": [
        "# Define the string\n",
        "text = \"Hello World\"\n",
        "\n",
        "# Find the length using len()\n",
        "length = len(text)\n",
        "\n",
        "# Print the result\n",
        "print(\"Length of the string is:\", length)\n"
      ],
      "metadata": {
        "colab": {
          "base_uri": "https://localhost:8080/"
        },
        "id": "JA5S4nd0kNl1",
        "outputId": "89942aad-ff5d-40f4-a8bb-356a615b1a0a"
      },
      "execution_count": null,
      "outputs": [
        {
          "output_type": "stream",
          "name": "stdout",
          "text": [
            "Length of the string is: 11\n"
          ]
        }
      ]
    },
    {
      "cell_type": "markdown",
      "source": [
        "3  Write a code to slice the first 3 characters from the string \"Python Programming\"\n"
      ],
      "metadata": {
        "id": "wmyHjyWDkaHa"
      }
    },
    {
      "cell_type": "code",
      "source": [
        "# Define the string\n",
        "text = \"Python Programming\"\n",
        "\n",
        "# Slice the first 3 characters\n",
        "sliced_text = text[:3]\n",
        "\n",
        "# Print the result\n",
        "print(\"First 3 characters:\", sliced_text)\n"
      ],
      "metadata": {
        "colab": {
          "base_uri": "https://localhost:8080/"
        },
        "id": "s-g3BM0vkYIC",
        "outputId": "8a1c096a-71df-420b-91dd-9b966973f24a"
      },
      "execution_count": null,
      "outputs": [
        {
          "output_type": "stream",
          "name": "stdout",
          "text": [
            "First 3 characters: Pyt\n"
          ]
        }
      ]
    },
    {
      "cell_type": "markdown",
      "source": [
        "4  Write a code to convert the string \"hello\" to uppercase\n"
      ],
      "metadata": {
        "id": "nwLh-eh-kkRk"
      }
    },
    {
      "cell_type": "code",
      "source": [
        "# Define the string\n",
        "text = \"hello\"\n",
        "\n",
        "# Convert to uppercase\n",
        "upper_text = text.upper()\n",
        "\n",
        "# Print the result\n",
        "print(\"Uppercase:\", upper_text)\n"
      ],
      "metadata": {
        "colab": {
          "base_uri": "https://localhost:8080/"
        },
        "id": "wgfFPOO4knBT",
        "outputId": "34b494e2-b677-4e7c-9a54-8e508a4fe437"
      },
      "execution_count": null,
      "outputs": [
        {
          "output_type": "stream",
          "name": "stdout",
          "text": [
            "Uppercase: HELLO\n"
          ]
        }
      ]
    },
    {
      "cell_type": "markdown",
      "source": [
        "5  Write a code to replace the word \"apple\" with \"orange\" in the string \"I like apple\"\n"
      ],
      "metadata": {
        "id": "_InM3lPkk-ZH"
      }
    },
    {
      "cell_type": "code",
      "source": [
        "# Define the string\n",
        "text = \"I like apple\"\n",
        "\n",
        "# Replace 'apple' with 'orange'\n",
        "new_text = text.replace(\"apple\", \"orange\")\n",
        "\n",
        "# Print the result\n",
        "print(new_text)\n"
      ],
      "metadata": {
        "colab": {
          "base_uri": "https://localhost:8080/"
        },
        "id": "WPWBUSD4k8Ed",
        "outputId": "d3cac209-7565-46e7-e92e-98853be2f5f8"
      },
      "execution_count": null,
      "outputs": [
        {
          "output_type": "stream",
          "name": "stdout",
          "text": [
            "I like orange\n"
          ]
        }
      ]
    },
    {
      "cell_type": "markdown",
      "source": [
        "6  Write a code to create a list with numbers 1 to 5 and print it\n"
      ],
      "metadata": {
        "id": "f1wJXOCvlL-m"
      }
    },
    {
      "cell_type": "code",
      "source": [
        "# Create the list\n",
        "numbers = [1, 2, 3, 4, 5]\n",
        "\n",
        "# Print the list\n",
        "print(\"List of numbers:\", numbers)\n"
      ],
      "metadata": {
        "colab": {
          "base_uri": "https://localhost:8080/"
        },
        "id": "zCfh8EpIlKKS",
        "outputId": "52e64234-6b4b-40f5-b967-177737eca313"
      },
      "execution_count": null,
      "outputs": [
        {
          "output_type": "stream",
          "name": "stdout",
          "text": [
            "List of numbers: [1, 2, 3, 4, 5]\n"
          ]
        }
      ]
    },
    {
      "cell_type": "markdown",
      "source": [
        "7  Write a code to append the number 10 to the list [1, 2, 3, 4]\n"
      ],
      "metadata": {
        "id": "QZqplOiIlYVS"
      }
    },
    {
      "cell_type": "code",
      "source": [
        "# Define the list\n",
        "numbers = [1, 2, 3, 4]\n",
        "\n",
        "# Append 10 to the list\n",
        "numbers.append(10)\n",
        "\n",
        "# Print the updated list\n",
        "print(\"Updated list:\", numbers)\n"
      ],
      "metadata": {
        "colab": {
          "base_uri": "https://localhost:8080/"
        },
        "id": "FYqeuWTFlXIP",
        "outputId": "3a07f423-9acc-4661-8890-5fa8f17bec91"
      },
      "execution_count": null,
      "outputs": [
        {
          "output_type": "stream",
          "name": "stdout",
          "text": [
            "Updated list: [1, 2, 3, 4, 10]\n"
          ]
        }
      ]
    },
    {
      "cell_type": "markdown",
      "source": [
        "8  Write a code to remove the number 3 from the list [1, 2, 3, 4, 5]\n"
      ],
      "metadata": {
        "id": "gVb5t3iAljUW"
      }
    },
    {
      "cell_type": "code",
      "source": [
        "# Define the list\n",
        "numbers = [1, 2, 3, 4, 5]\n",
        "\n",
        "# Remove the number 3\n",
        "numbers.remove(3)\n",
        "\n",
        "# Print the updated list\n",
        "print(\"Updated list:\", numbers)\n"
      ],
      "metadata": {
        "colab": {
          "base_uri": "https://localhost:8080/"
        },
        "id": "R6hBfxOFlh0E",
        "outputId": "3366be3b-6fda-4bd8-e297-ab6e633bea7d"
      },
      "execution_count": null,
      "outputs": [
        {
          "output_type": "stream",
          "name": "stdout",
          "text": [
            "Updated list: [1, 2, 4, 5]\n"
          ]
        }
      ]
    },
    {
      "cell_type": "markdown",
      "source": [
        "9  Write a code to access the second element in the list ['a', 'b', 'c', 'd']\n"
      ],
      "metadata": {
        "id": "4E7lXGciluXd"
      }
    },
    {
      "cell_type": "code",
      "source": [
        "# Define the list\n",
        "letters = ['a', 'b', 'c', 'd']\n",
        "\n",
        "# Access the second element (index 1)\n",
        "second_element = letters[1]\n",
        "\n",
        "# Print the result\n",
        "print(\"Second element:\", second_element)\n"
      ],
      "metadata": {
        "colab": {
          "base_uri": "https://localhost:8080/"
        },
        "id": "nQQ9DF3-lrOe",
        "outputId": "af424f67-8e01-4208-97af-e9fd57cb36ce"
      },
      "execution_count": null,
      "outputs": [
        {
          "output_type": "stream",
          "name": "stdout",
          "text": [
            "Second element: b\n"
          ]
        }
      ]
    },
    {
      "cell_type": "markdown",
      "source": [
        "10  Write a code to reverse the list [10, 20, 30, 40, 50].\n"
      ],
      "metadata": {
        "id": "5R31VBIrmA65"
      }
    },
    {
      "cell_type": "code",
      "source": [
        "# Define the list\n",
        "numbers = [10, 20, 30, 40, 50]\n",
        "\n",
        "# Reverse the list\n",
        "numbers.reverse()\n",
        "\n",
        "# Print the reversed list\n",
        "print(\"Reversed list:\", numbers)\n"
      ],
      "metadata": {
        "colab": {
          "base_uri": "https://localhost:8080/"
        },
        "id": "vWmalHLXmEdD",
        "outputId": "ddf0791f-392d-4b45-b9f1-4592aff5a080"
      },
      "execution_count": null,
      "outputs": [
        {
          "output_type": "stream",
          "name": "stdout",
          "text": [
            "Reversed list: [50, 40, 30, 20, 10]\n"
          ]
        }
      ]
    },
    {
      "cell_type": "markdown",
      "source": [
        "11 Write a code to create a tuple with the elements 100, 200, 300 and print it.\n"
      ],
      "metadata": {
        "id": "F5mgOswimMQP"
      }
    },
    {
      "cell_type": "code",
      "source": [
        "# Create the tuple\n",
        "my_tuple = (100, 200, 300)\n",
        "\n",
        "# Print the tuple\n",
        "print(\"Tuple:\", my_tuple)\n"
      ],
      "metadata": {
        "colab": {
          "base_uri": "https://localhost:8080/"
        },
        "id": "7y1Upnq7l-2S",
        "outputId": "d48b7176-4275-4d29-dddf-76d2b6b2c0d8"
      },
      "execution_count": null,
      "outputs": [
        {
          "output_type": "stream",
          "name": "stdout",
          "text": [
            "Tuple: (100, 200, 300)\n"
          ]
        }
      ]
    },
    {
      "cell_type": "markdown",
      "source": [
        "12. Write a code to access the second-to-last element of the tuple ('red', 'green', 'blue', 'yellow').\n"
      ],
      "metadata": {
        "id": "hNdnsBmLmZ-7"
      }
    },
    {
      "cell_type": "code",
      "source": [
        "# Define the tuple\n",
        "colors = ('red', 'green', 'blue', 'yellow')\n",
        "\n",
        "# Access the second-to-last element using negative indexing\n",
        "second_last = colors[-2]\n",
        "\n",
        "# Print the result\n",
        "print(\"Second-to-last element:\", second_last)\n"
      ],
      "metadata": {
        "colab": {
          "base_uri": "https://localhost:8080/"
        },
        "id": "Ufj5YOsvmYS1",
        "outputId": "ccefa806-c2b3-4c80-f30f-60f7effc8aa1"
      },
      "execution_count": null,
      "outputs": [
        {
          "output_type": "stream",
          "name": "stdout",
          "text": [
            "Second-to-last element: blue\n"
          ]
        }
      ]
    },
    {
      "cell_type": "markdown",
      "source": [
        " 13. Write a code to find the minimum number in the tuple (10, 20, 5, 15).\n",
        "\n"
      ],
      "metadata": {
        "id": "-SUcn_mKmyKE"
      }
    },
    {
      "cell_type": "code",
      "source": [
        " # Define the tuple\n",
        "numbers = (10, 20, 5, 15)\n",
        "\n",
        "# Find the minimum number\n",
        "min_value = min(numbers)\n",
        "\n",
        "# Print the result\n",
        "print(\"Minimum number:\", min_value)\n"
      ],
      "metadata": {
        "colab": {
          "base_uri": "https://localhost:8080/"
        },
        "id": "7-ZpJgKvmuNr",
        "outputId": "2d4c2051-faf3-4b8b-abe7-c680e70f50f9"
      },
      "execution_count": null,
      "outputs": [
        {
          "output_type": "stream",
          "name": "stdout",
          "text": [
            "Minimum number: 5\n"
          ]
        }
      ]
    },
    {
      "cell_type": "markdown",
      "source": [
        " 14. Write a code to find the index of the element \"cat\" in the tuple ('dog', 'cat', 'rabbit').\n"
      ],
      "metadata": {
        "id": "FixZ7Rflm-ie"
      }
    },
    {
      "cell_type": "code",
      "source": [
        "# Define the tuple\n",
        "animals = ('dog', 'cat', 'rabbit')\n",
        "\n",
        "# Find the index of 'cat'\n",
        "index = animals.index('cat')\n",
        "\n",
        "# Print the result\n",
        "print(\"Index of 'cat':\", index)\n"
      ],
      "metadata": {
        "colab": {
          "base_uri": "https://localhost:8080/"
        },
        "id": "zMEGbMQom9vE",
        "outputId": "d845304e-6614-450d-f22c-14b7025a4fd2"
      },
      "execution_count": null,
      "outputs": [
        {
          "output_type": "stream",
          "name": "stdout",
          "text": [
            "Index of 'cat': 1\n"
          ]
        }
      ]
    },
    {
      "cell_type": "markdown",
      "source": [
        " 15. Write a code to create a tuple containing three different fruits and check if \"kiwi\" is in it.\n"
      ],
      "metadata": {
        "id": "KYh-KM35nM3a"
      }
    },
    {
      "cell_type": "code",
      "source": [
        "# Create the tuple\n",
        "fruits = (\"apple\", \"banana\", \"orange\")\n",
        "\n",
        "# Check if 'kiwi' is in the tuple\n",
        "is_kiwi_present = \"kiwi\" in fruits\n",
        "\n",
        "# Print the result\n",
        "print(\"Is 'kiwi' in the tuple?\", is_kiwi_present)\n"
      ],
      "metadata": {
        "colab": {
          "base_uri": "https://localhost:8080/"
        },
        "id": "loCyUiN6nLxL",
        "outputId": "7bfd7d86-a22e-4e47-ce67-5c9d0fb7652c"
      },
      "execution_count": null,
      "outputs": [
        {
          "output_type": "stream",
          "name": "stdout",
          "text": [
            "Is 'kiwi' in the tuple? False\n"
          ]
        }
      ]
    },
    {
      "cell_type": "markdown",
      "source": [
        " 16. Write a code to create a set with the elements 'a', 'b', 'c' and print it.\n"
      ],
      "metadata": {
        "id": "2k42PXDznnM1"
      }
    },
    {
      "cell_type": "code",
      "source": [
        "# Create the set\n",
        "my_set = {'a', 'b', 'c'}\n",
        "\n",
        "# Print the set\n",
        "print(\"Set:\", my_set)\n"
      ],
      "metadata": {
        "colab": {
          "base_uri": "https://localhost:8080/"
        },
        "id": "8Hth-GBGno3r",
        "outputId": "df298cd8-6ec6-4690-b3f3-3238f4592872"
      },
      "execution_count": null,
      "outputs": [
        {
          "output_type": "stream",
          "name": "stdout",
          "text": [
            "Set: {'b', 'a', 'c'}\n"
          ]
        }
      ]
    },
    {
      "cell_type": "markdown",
      "source": [
        " 17. Write a code to clear all elements from the set {1, 2, 3, 4, 5}.\n"
      ],
      "metadata": {
        "id": "yjMJ5YB5n1M6"
      }
    },
    {
      "cell_type": "code",
      "source": [
        "# Define the set\n",
        "numbers = {1, 2, 3, 4, 5}\n",
        "\n",
        "# Clear the set\n",
        "numbers.clear()\n",
        "\n",
        "# Print the empty set\n",
        "print(\"Cleared set:\", numbers)\n"
      ],
      "metadata": {
        "colab": {
          "base_uri": "https://localhost:8080/"
        },
        "id": "SLfS_xlunyxQ",
        "outputId": "9e00a745-06c0-49c8-838a-f83be0d19501"
      },
      "execution_count": null,
      "outputs": [
        {
          "output_type": "stream",
          "name": "stdout",
          "text": [
            "Cleared set: set()\n"
          ]
        }
      ]
    },
    {
      "cell_type": "markdown",
      "source": [
        " 18. Write a code to remove the element 4 from the set {1, 2, 3, 4}.\n"
      ],
      "metadata": {
        "id": "WnSTzmXHoAFy"
      }
    },
    {
      "cell_type": "code",
      "source": [
        "# Define the set\n",
        "numbers = {1, 2, 3, 4}\n",
        "\n",
        "# Remove the element 4\n",
        "numbers.remove(4)\n",
        "\n",
        "# Print the updated set\n",
        "print(\"Updated set:\", numbers)\n"
      ],
      "metadata": {
        "colab": {
          "base_uri": "https://localhost:8080/"
        },
        "id": "uK11TKtqn_Qg",
        "outputId": "d7f5aea8-e522-46b6-d128-177380b608ee"
      },
      "execution_count": null,
      "outputs": [
        {
          "output_type": "stream",
          "name": "stdout",
          "text": [
            "Updated set: {1, 2, 3}\n"
          ]
        }
      ]
    },
    {
      "cell_type": "markdown",
      "source": [
        " 19. Write a code to find the union of two sets {1, 2, 3} and {3, 4, 5}.\n"
      ],
      "metadata": {
        "id": "OY80pY0ZoLGi"
      }
    },
    {
      "cell_type": "code",
      "source": [
        "# Define the sets\n",
        "set1 = {1, 2, 3}\n",
        "set2 = {3, 4, 5}\n",
        "\n",
        "# Find the union of the sets\n",
        "union_set = set1.union(set2)\n",
        "\n",
        "# Print the result\n",
        "print(\"Union of set1 and set2:\", union_set)\n"
      ],
      "metadata": {
        "id": "ShupxS2foPmj",
        "colab": {
          "base_uri": "https://localhost:8080/"
        },
        "outputId": "a4ac8d09-d54f-4928-e819-5634f57e45fb"
      },
      "execution_count": 1,
      "outputs": [
        {
          "output_type": "stream",
          "name": "stdout",
          "text": [
            "Union of set1 and set2: {1, 2, 3, 4, 5}\n"
          ]
        }
      ]
    },
    {
      "cell_type": "markdown",
      "source": [
        " 20. Write a code to find the intersection of two sets {1, 2, 3} and {2, 3, 4}.\n"
      ],
      "metadata": {
        "id": "EaBo4X7ATlOp"
      }
    },
    {
      "cell_type": "code",
      "source": [
        "# Define the sets\n",
        "set1 = {1, 2, 3}\n",
        "set2 = {2, 3, 4}\n",
        "\n",
        "# Find the intersection of the sets\n",
        "intersection_set = set1.intersection(set2)\n",
        "\n",
        "# Print the result\n",
        "print(\"Intersection of set1 and set2:\", intersection_set)\n",
        "\n"
      ],
      "metadata": {
        "colab": {
          "base_uri": "https://localhost:8080/"
        },
        "id": "WxumN8g5Thdf",
        "outputId": "9759ed09-8233-4f49-8ca8-4e1de8b60463"
      },
      "execution_count": 2,
      "outputs": [
        {
          "output_type": "stream",
          "name": "stdout",
          "text": [
            "Intersection of set1 and set2: {2, 3}\n"
          ]
        }
      ]
    },
    {
      "cell_type": "markdown",
      "source": [
        " 21. Write a code to create a dictionary with the keys \"name\", \"age\", and \"city\", and print it.\n"
      ],
      "metadata": {
        "id": "pRIugIF_TwSK"
      }
    },
    {
      "cell_type": "code",
      "source": [
        "# Create the dictionary\n",
        "person = {\n",
        "    \"name\": \"Alice\",\n",
        "    \"age\": 25,\n",
        "    \"city\": \"New York\"\n",
        "}\n",
        "\n",
        "# Print the dictionary\n",
        "print(person)\n"
      ],
      "metadata": {
        "colab": {
          "base_uri": "https://localhost:8080/"
        },
        "id": "R5v3b2chTvRf",
        "outputId": "e51d5dd1-1854-478a-b603-324c08ced940"
      },
      "execution_count": 3,
      "outputs": [
        {
          "output_type": "stream",
          "name": "stdout",
          "text": [
            "{'name': 'Alice', 'age': 25, 'city': 'New York'}\n"
          ]
        }
      ]
    },
    {
      "cell_type": "markdown",
      "source": [
        " 22. Write a code to add a new key-value pair \"country\": \"USA\" to the dictionary {'name': 'John', 'age': 25}.\n"
      ],
      "metadata": {
        "id": "8dBNqTkVT9lt"
      }
    },
    {
      "cell_type": "code",
      "source": [
        "# Original dictionary\n",
        "person = {'name': 'John', 'age': 25}\n",
        "\n",
        "# Add new key-value pair\n",
        "person['country'] = 'USA'\n",
        "\n",
        "# Print the updated dictionary\n",
        "print(person)\n"
      ],
      "metadata": {
        "colab": {
          "base_uri": "https://localhost:8080/"
        },
        "id": "iD5N34_fT_xs",
        "outputId": "fc3dd9a9-b8cd-4ebe-95b4-86acfd7c42f0"
      },
      "execution_count": 4,
      "outputs": [
        {
          "output_type": "stream",
          "name": "stdout",
          "text": [
            "{'name': 'John', 'age': 25, 'country': 'USA'}\n"
          ]
        }
      ]
    },
    {
      "cell_type": "markdown",
      "source": [
        " 23. Write a code to access the value associated with the key \"name\" in the dictionary {'name': 'Alice', 'age': 30}.\n"
      ],
      "metadata": {
        "id": "et6FAI4CUPEj"
      }
    },
    {
      "cell_type": "code",
      "source": [
        "# Define the dictionary\n",
        "person = {'name': 'Alice', 'age': 30}\n",
        "\n",
        "# Access the value associated with the key 'name'\n",
        "name_value = person['name']\n",
        "\n",
        "# Print the value\n",
        "print(\"Name:\", name_value)\n"
      ],
      "metadata": {
        "colab": {
          "base_uri": "https://localhost:8080/"
        },
        "id": "RY0Thm4nUMhv",
        "outputId": "524b3b69-0be4-40df-b29b-c1fb8a938bfc"
      },
      "execution_count": 6,
      "outputs": [
        {
          "output_type": "stream",
          "name": "stdout",
          "text": [
            "Name: Alice\n"
          ]
        }
      ]
    },
    {
      "cell_type": "markdown",
      "source": [
        " 24. Write a code to remove the key \"age\" from the dictionary {'name': 'Bob', 'age': 22, 'city': 'New York'}.\n"
      ],
      "metadata": {
        "id": "r3cfKijmUXxf"
      }
    },
    {
      "cell_type": "code",
      "source": [
        "# Define the dictionary\n",
        "person = {'name': 'Bob', 'age': 22, 'city': 'New York'}\n",
        "\n",
        "# Remove the key 'age'\n",
        "person.pop('age')\n",
        "\n",
        "# Print the updated dictionary\n",
        "print(person)\n"
      ],
      "metadata": {
        "colab": {
          "base_uri": "https://localhost:8080/"
        },
        "id": "wjDbkC0QUbLz",
        "outputId": "00b72ba0-a87b-4174-8b52-7db6b546c8c6"
      },
      "execution_count": 7,
      "outputs": [
        {
          "output_type": "stream",
          "name": "stdout",
          "text": [
            "{'name': 'Bob', 'city': 'New York'}\n"
          ]
        }
      ]
    },
    {
      "cell_type": "markdown",
      "source": [
        " 25. Write a code to check if the key \"city\" exists in the dictionary {'name': 'Alice', 'city': 'Paris'}.\n"
      ],
      "metadata": {
        "id": "UTAVWxN6UioE"
      }
    },
    {
      "cell_type": "code",
      "source": [
        "# Define the dictionary\n",
        "person = {'name': 'Alice', 'city': 'Paris'}\n",
        "\n",
        "# Check if 'city' key exists\n",
        "if 'city' in person:\n",
        "    print(\"The key 'city' exists in the dictionary.\")\n",
        "else:\n",
        "    print(\"The key 'city' does not exist in the dictionary.\")\n"
      ],
      "metadata": {
        "colab": {
          "base_uri": "https://localhost:8080/"
        },
        "id": "zzlM_kuPUg4d",
        "outputId": "3679bb5f-4e25-419d-f5c2-f60184bda914"
      },
      "execution_count": 8,
      "outputs": [
        {
          "output_type": "stream",
          "name": "stdout",
          "text": [
            "The key 'city' exists in the dictionary.\n"
          ]
        }
      ]
    },
    {
      "cell_type": "markdown",
      "source": [
        " 26. Write a code to create a list, a tuple, and a dictionary, and print them all.\n"
      ],
      "metadata": {
        "id": "OuqlSnHAUtLE"
      }
    },
    {
      "cell_type": "code",
      "source": [
        "# Create a list\n",
        "my_list = [1, 2, 3, 4, 5]\n",
        "\n",
        "# Create a tuple\n",
        "my_tuple = ('apple', 'banana', 'cherry')\n",
        "\n",
        "# Create a dictionary\n",
        "my_dict = {'name': 'John', 'age': 30, 'city': 'London'}\n",
        "\n",
        "# Print them all\n",
        "print(\"List:\", my_list)\n",
        "print(\"Tuple:\", my_tuple)\n",
        "print(\"Dictionary:\", my_dict)\n"
      ],
      "metadata": {
        "colab": {
          "base_uri": "https://localhost:8080/"
        },
        "id": "uIEulK7kUrxv",
        "outputId": "1853651a-3ed2-4ab1-b130-7ae4f2b67523"
      },
      "execution_count": 9,
      "outputs": [
        {
          "output_type": "stream",
          "name": "stdout",
          "text": [
            "List: [1, 2, 3, 4, 5]\n",
            "Tuple: ('apple', 'banana', 'cherry')\n",
            "Dictionary: {'name': 'John', 'age': 30, 'city': 'London'}\n"
          ]
        }
      ]
    },
    {
      "cell_type": "markdown",
      "source": [
        " 27. Write a code to create a list of 5 random numbers between 1 and 100, sort it in ascending order, and print the result(replaced)"
      ],
      "metadata": {
        "id": "FGnJacyfU3yB"
      }
    },
    {
      "cell_type": "code",
      "source": [
        "import random\n",
        "\n",
        "# Create a list of 5 random numbers between 1 and 100\n",
        "random_numbers = random.sample(range(1, 101), 5)\n",
        "\n",
        "# Sort the list in ascending order\n",
        "random_numbers.sort()\n",
        "\n",
        "# Print the sorted list\n",
        "print(\"Sorted random numbers:\", random_numbers)\n"
      ],
      "metadata": {
        "colab": {
          "base_uri": "https://localhost:8080/"
        },
        "id": "fiqWSGxuU1GX",
        "outputId": "b7e27b69-0de2-4bb1-d2db-ae6fa7859c55"
      },
      "execution_count": 10,
      "outputs": [
        {
          "output_type": "stream",
          "name": "stdout",
          "text": [
            "Sorted random numbers: [11, 20, 40, 51, 95]\n"
          ]
        }
      ]
    },
    {
      "cell_type": "markdown",
      "source": [
        "28. Write a code to create a list with strings and print the element at the third index.\n"
      ],
      "metadata": {
        "id": "7jTt0ItdVb70"
      }
    },
    {
      "cell_type": "code",
      "source": [
        "# Create a list with string elements\n",
        "fruits = [\"apple\", \"banana\", \"cherry\", \"mango\", \"orange\"]\n",
        "\n",
        "# Print the element at the third index\n",
        "print(\"Element at index 3:\", fruits[3])\n"
      ],
      "metadata": {
        "colab": {
          "base_uri": "https://localhost:8080/"
        },
        "id": "BjASjUK8Vap-",
        "outputId": "531d7aa2-bb2e-42e0-e5df-5dda0e1b38fb"
      },
      "execution_count": 11,
      "outputs": [
        {
          "output_type": "stream",
          "name": "stdout",
          "text": [
            "Element at index 3: mango\n"
          ]
        }
      ]
    },
    {
      "cell_type": "markdown",
      "source": [
        " 29. Write a code to combine two dictionaries into one and print the result.\n"
      ],
      "metadata": {
        "id": "2v_WPMhDVrGK"
      }
    },
    {
      "cell_type": "code",
      "source": [
        "# Define two dictionaries\n",
        "dict1 = {'a': 1, 'b': 2}\n",
        "dict2 = {'c': 3, 'd': 4}\n",
        "\n",
        "# Combine the dictionaries\n",
        "combined_dict = {**dict1, **dict2}\n",
        "\n",
        "# Print the result\n",
        "print(\"Combined dictionary:\", combined_dict)\n"
      ],
      "metadata": {
        "colab": {
          "base_uri": "https://localhost:8080/"
        },
        "id": "g12JRi5-T8HG",
        "outputId": "33323dfa-2a73-4151-ce6a-adcb78dd4dad"
      },
      "execution_count": 12,
      "outputs": [
        {
          "output_type": "stream",
          "name": "stdout",
          "text": [
            "Combined dictionary: {'a': 1, 'b': 2, 'c': 3, 'd': 4}\n"
          ]
        }
      ]
    },
    {
      "cell_type": "markdown",
      "source": [
        " 30. Write a code to convert a list of strings into a set.\n"
      ],
      "metadata": {
        "id": "rbHZSpAKV9d3"
      }
    },
    {
      "cell_type": "code",
      "source": [
        "# Define a list of strings\n",
        "string_list = [\"apple\", \"banana\", \"apple\", \"cherry\"]\n",
        "\n",
        "# Convert the list to a set\n",
        "string_set = set(string_list)\n",
        "\n",
        "# Print the result\n",
        "print(\"Set:\", string_set)\n"
      ],
      "metadata": {
        "colab": {
          "base_uri": "https://localhost:8080/"
        },
        "id": "XGF6oEblV5tM",
        "outputId": "7e7b0041-0a2b-4eed-ba35-4336bfa3b3fe"
      },
      "execution_count": 13,
      "outputs": [
        {
          "output_type": "stream",
          "name": "stdout",
          "text": [
            "Set: {'banana', 'cherry', 'apple'}\n"
          ]
        }
      ]
    }
  ]
}